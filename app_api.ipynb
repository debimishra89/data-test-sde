{
 "cells": [
  {
   "cell_type": "code",
   "execution_count": 17,
   "id": "69e07fb8",
   "metadata": {},
   "outputs": [],
   "source": [
    "from flask import Flask, redirect, url_for, request\n",
    "from google.cloud import bigquery\n",
    "import requests\n",
    "from flask import Flask, request\n",
    "import os\n",
    "import sys\n",
    "import json\n",
    "from multiprocessing import Pool\n",
    "import logging\n",
    "import warnings\n",
    "warnings.filterwarnings('ignore')"
   ]
  },
  {
   "cell_type": "code",
   "execution_count": 18,
   "id": "c59b0b6b",
   "metadata": {},
   "outputs": [
    {
     "name": "stdout",
     "output_type": "stream",
     "text": [
      " * Serving Flask app '__main__' (lazy loading)\n",
      " * Environment: production\n",
      "\u001b[31m   WARNING: This is a development server. Do not use it in a production deployment.\u001b[0m\n",
      "\u001b[2m   Use a production WSGI server instead.\u001b[0m\n",
      " * Debug mode: off\n"
     ]
    },
    {
     "name": "stderr",
     "output_type": "stream",
     "text": [
      " * Running on all addresses (0.0.0.0)\n",
      "   WARNING: This is a development server. Do not use it in a production deployment.\n",
      " * Running on http://127.0.0.1:8181\n",
      " * Running on http://10.1.5.121:8181 (Press CTRL+C to quit)\n"
     ]
    }
   ],
   "source": [
    "import pipeline\n",
    "\n",
    "# create the Flask app\n",
    "app = Flask(__name__)\n",
    "\n",
    "@app.route(\"/run\",methods=['POST'])\n",
    "def query_example():\n",
    "    os.chdir('/opt/sephora/data-test-sde-master/res')\n",
    "    log_dir='/opt/sephora/'\n",
    "    pipeline.project_name='sephora-test-347812'\n",
    "    pipeline.client = bigquery.Client.from_service_account_json(\"/opt/sephora/sephora-test-347812-5fd519c10f6d.json\")\n",
    "    tasks_json='/opt/sephora/tasks.json'\n",
    "    #Logging setup\n",
    "    logging.basicConfig(filename=log_dir+pipeline.project_name+'.log', filemode='a', format='%(asctime)s - %(message)s', level=logging.INFO)\n",
    "    logging.info(\"API call initiated\")\n",
    "    #USER INPUT TASKS\n",
    "    try:\n",
    "        with open(tasks_json) as json_file:\n",
    "            dict_dependency = json.load(json_file)\n",
    "    except Exception as e:\n",
    "        logging.error(\"Error occured while decoding tasks json file\")\n",
    "        sys.exit(\"problem with input tasks file, job execution stopped\")\n",
    "\n",
    "    graph=pipeline.createDAG(dict_dependency)\n",
    "    tasks=pipeline.topsort_grouping(graph)\n",
    "    \n",
    "    for i in range(len(tasks)):\n",
    "        logging.info('List of parallel tasks({}) :{}'.format(i+1,tasks[i]))\n",
    "\n",
    "\n",
    "    for task in tasks:\n",
    "        try:\n",
    "            with Pool(len(task)) as p:\n",
    "                p.map(pipeline.execute,task)\n",
    "        except Exception as e:\n",
    "            sys.exit('Error message: %s',e)\n",
    "        \n",
    "                \n",
    "    return \"success\"\n",
    "\n",
    "\n",
    "if __name__ == '__main__':\n",
    "    # run app in debug mode on port 5000\n",
    "    app.run(host='0.0.0.0', port=8181) #debug=True, port=5050"
   ]
  },
  {
   "cell_type": "code",
   "execution_count": null,
   "id": "4988dfd7",
   "metadata": {},
   "outputs": [],
   "source": []
  },
  {
   "cell_type": "code",
   "execution_count": null,
   "id": "4108f139",
   "metadata": {},
   "outputs": [],
   "source": []
  }
 ],
 "metadata": {
  "kernelspec": {
   "display_name": "Python 3 (ipykernel)",
   "language": "python",
   "name": "python3"
  },
  "language_info": {
   "codemirror_mode": {
    "name": "ipython",
    "version": 3
   },
   "file_extension": ".py",
   "mimetype": "text/x-python",
   "name": "python",
   "nbconvert_exporter": "python",
   "pygments_lexer": "ipython3",
   "version": "3.8.10"
  }
 },
 "nbformat": 4,
 "nbformat_minor": 5
}
