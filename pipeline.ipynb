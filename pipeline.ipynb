{
 "cells": [
  {
   "cell_type": "code",
   "execution_count": 4,
   "id": "69e07fb8",
   "metadata": {},
   "outputs": [],
   "source": [
    "import networkx as nx\n",
    "from matplotlib import pyplot as plt\n",
    "import pandas as pd\n",
    "import numpy as np\n",
    "from google.cloud import bigquery\n",
    "import requests\n",
    "import flask\n",
    "import os\n",
    "import sys\n",
    "from multiprocessing import Pool\n",
    "import logging\n",
    "import argparse\n",
    "import warnings\n",
    "import json\n",
    "warnings.filterwarnings('ignore')"
   ]
  },
  {
   "cell_type": "code",
   "execution_count": 5,
   "id": "f9a3c5dc",
   "metadata": {},
   "outputs": [],
   "source": [
    "def createDAG(dict_dependency):\n",
    "    list_nodes_sql=[]\n",
    "    for i in dict_dependency:\n",
    "        list_nodes_sql.extend([(x,i) for x in dict_dependency[i]])\n",
    "    graph= nx.DiGraph()\n",
    "    graph.add_edges_from(list_nodes_sql)\n",
    "    if(nx.is_directed_acyclic_graph(graph)):\n",
    "        logging.info('DAG creation successful')\n",
    "        return graph\n",
    "    else:\n",
    "        logging.error('Dependencies has a cycle. Cant create DAG')\n",
    "        sys.exit(\"Dependencies has a cycle. Can't create DAG. Job execution stopped\")\n",
    "            \n",
    "#TASK GROUPING FOR PARALLEL EXECUTION\n",
    "def topsort_grouping(g):\n",
    "    # copy the graph\n",
    "    _g = g.copy()\n",
    "    res = []\n",
    "    # while _g is not empty\n",
    "    while _g:\n",
    "        zero_indegree = [v for v, d in _g.in_degree() if d == 0]\n",
    "        res.append(zero_indegree)\n",
    "        _g.remove_nodes_from(zero_indegree)\n",
    "    logging.info('DAG with parallel tasks created')\n",
    "    return res\n",
    "\n",
    "    #TASK EXECUTION ON BIGQUERY DATASETS\n",
    "def execute(task):\n",
    "    logging.info('Task execution started for {}'.format(task))\n",
    "    sql_query = open(task, 'r')\n",
    "    df = client.query(sql_query.read()).to_dataframe()\n",
    "    #DATASET and TABLE NAME EXTRACTION\n",
    "    t1=task.split('/')\n",
    "    t2=t1[1].split('.')[0]\n",
    "    dataset_table=t1[0]+'.'+t2\n",
    "    table_id = project_name+'.'+dataset_table\n",
    "    #DATA LOADING TO BIGQUERY TABLES\n",
    "    job_config = bigquery.LoadJobConfig(autodetect=True,write_disposition=\"WRITE_TRUNCATE\")\n",
    "    job = client.load_table_from_dataframe(\n",
    "    df, table_id, job_config=job_config)  # Make an API request.\n",
    "    job.result()\n",
    "    logging.info('Task execution ended for {}'.format(task))\n",
    "   "
   ]
  },
  {
   "cell_type": "code",
   "execution_count": 6,
   "id": "198dca60",
   "metadata": {},
   "outputs": [
    {
     "name": "stderr",
     "output_type": "stream",
     "text": [
      "usage: ipykernel_launcher.py [-h] [--res_dir RES_DIR] [--log_dir LOG_DIR]\n",
      "                             [--project_name PROJECT_NAME]\n",
      "                             [--key_path KEY_PATH] [--tasks_json TASKS_JSON]\n",
      "ipykernel_launcher.py: error: unrecognized arguments: -f /home/ubuntu/.local/share/jupyter/runtime/kernel-38c06878-2e77-4621-aca2-716ff2d72f79.json\n"
     ]
    },
    {
     "ename": "SystemExit",
     "evalue": "2",
     "output_type": "error",
     "traceback": [
      "An exception has occurred, use %tb to see the full traceback.\n",
      "\u001b[0;31mSystemExit\u001b[0m\u001b[0;31m:\u001b[0m 2\n"
     ]
    }
   ],
   "source": [
    "if __name__==\"__main__\":\n",
    "    parser = argparse.ArgumentParser()\n",
    "    parser.add_argument('--res_dir')\n",
    "    parser.add_argument('--log_dir')\n",
    "    parser.add_argument('--project_name')\n",
    "    parser.add_argument('--key_path')\n",
    "    parser.add_argument('--tasks_json')\n",
    "    args = parser.parse_args()\n",
    "    \n",
    "    \n",
    "    os.chdir(args.res_dir) #'/opt/sephora/data-test-sde-master/res'\n",
    "    log_dir=args.log_dir #'/opt/sephora/'\n",
    "    project_name=args.project_name #'sephora-test-347812'\n",
    "    client = bigquery.Client.from_service_account_json(args.key_path) #\"/opt/sephora/sephora-test-347812-5fd519c10f6d.json\"\n",
    "    \n",
    "    #Logging setup\n",
    "    logging.basicConfig(filename=log_dir+project_name+'.log', filemode='a', format='%(asctime)s - %(message)s', level=logging.INFO)\n",
    "    \n",
    "    #USER INPUT TASKS\n",
    "    try:\n",
    "        with open(args.tasks_json) as json_file:\n",
    "            dict_dependency = json.load(json_file)\n",
    "    except Exception as e:\n",
    "        logging.error(\"Error occured while decoding tasks json file\")\n",
    "        sys.exit(\"problem with input tasks file, job execution stopped\")\n",
    "\n",
    "    logging.info('input tasks received')\n",
    "    \n",
    "    #DAG CREATION\n",
    "    logging.info('DAG creation process started')\n",
    "    graph=createDAG(dict_dependency)\n",
    "    \n",
    "    #PARALLEL TASKS LIST\n",
    "    logging.info('Grouping of parallel tasks process started')\n",
    "    tasks=topsort_grouping(graph)\n",
    "    for i in range(len(tasks)):\n",
    "        logging.info('List of parallel tasks({}) :{}'.format(i+1,tasks[i]))\n",
    "\n",
    "    #PARALLEL EXECUTION OF DAG TASKS\n",
    "    for task in tasks:\n",
    "        try:\n",
    "            with Pool(len(task)) as p:\n",
    "                p.map(execute,task)\n",
    "        except Exception as e:\n",
    "            logging.error('Error occured while executing : %s',task)\n",
    "            logging.error('Error message: %s',e)\n",
    "            sys.exit(\"stopped execution\")\n",
    "            \n",
    "        \n",
    "    \n",
    "    "
   ]
  },
  {
   "cell_type": "code",
   "execution_count": null,
   "id": "a3575678",
   "metadata": {},
   "outputs": [],
   "source": []
  }
 ],
 "metadata": {
  "kernelspec": {
   "display_name": "Python 3 (ipykernel)",
   "language": "python",
   "name": "python3"
  },
  "language_info": {
   "codemirror_mode": {
    "name": "ipython",
    "version": 3
   },
   "file_extension": ".py",
   "mimetype": "text/x-python",
   "name": "python",
   "nbconvert_exporter": "python",
   "pygments_lexer": "ipython3",
   "version": "3.8.10"
  }
 },
 "nbformat": 4,
 "nbformat_minor": 5
}
